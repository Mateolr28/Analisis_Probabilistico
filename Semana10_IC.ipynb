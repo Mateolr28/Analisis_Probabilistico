{
 "cells": [
  {
   "cell_type": "markdown",
   "metadata": {},
   "source": [
    "## Bloque 1: Intervalos de confianza para una media"
   ]
  },
  {
   "cell_type": "markdown",
   "metadata": {},
   "source": [
    "### Caso 1: Varianza conocida, población normal\n",
    "\n",
    "Un sensor industrial reporta lecturas de temperatura cada hora. El fabricante afirma que su desviación estándar es constante en 2.5°C. Se toman 36 muestras y se desea estimar el verdadero valor promedio de la temperatura."
   ]
  },
  {
   "cell_type": "code",
   "execution_count": 15,
   "metadata": {},
   "outputs": [
    {
     "name": "stdout",
     "output_type": "stream",
     "text": [
      "Intervalo de Confianza con varianza conocida y población normal: (74.93,76.56)\n"
     ]
    }
   ],
   "source": [
    "import numpy as np\n",
    "from scipy.stats import norm\n",
    "\n",
    "# Datos simulados\n",
    "np.random.seed(0)\n",
    "datos = np.random.normal(loc=75, scale=2.5, size=36)\n",
    "\n",
    "media_muestra = np.mean(datos)\n",
    "std_poblacional = 2.5\n",
    "n = len(datos)\n",
    "alfa = 0.05\n",
    "\n",
    "z = norm.ppf(1 - alfa/2)\n",
    "error = z * (std_poblacional / np.sqrt(n))\n",
    "\n",
    "IC = (media_muestra - error, media_muestra + error)\n",
    "print(f'IC con var conocida y población normal: ({IC[0]:.2f},{IC[1]:.2f})')"
   ]
  },
  {
   "cell_type": "markdown",
   "metadata": {},
   "source": [
    "### Caso 2: Varianza desconocida, población normal\n",
    "\n",
    "Una planta embotelladora controla la cantidad de líquido en botellas de 500 ml. Se sabe que la muestra proviene de una población normal y se desea estimar la media real con base en una muestra de 15 botellas."
   ]
  },
  {
   "cell_type": "code",
   "execution_count": 16,
   "metadata": {},
   "outputs": [
    {
     "name": "stdout",
     "output_type": "stream",
     "text": [
      "IC con varianza desconocida y población normal: (499.06,500.94)\n"
     ]
    }
   ],
   "source": [
    "from scipy.stats import t\n",
    "\n",
    "# Datos\n",
    "muestra = np.array([499, 502, 501, 498, 500, 497, 499, 503, 500, 502, 501, 499, 498, 500, 501])\n",
    "media = np.mean(muestra)\n",
    "desv_est = np.std(muestra, ddof=1)\n",
    "n = len(muestra)\n",
    "t_crit = t.ppf(1 - alfa/2, df=n-1)\n",
    "\n",
    "error = t_crit * desv_est / np.sqrt(n)\n",
    "IC = (media - error, media + error)\n",
    "print(f'IC con varianza desconocida y población normal: ({IC[0]:.2f},{IC[1]:.2f})')"
   ]
  },
  {
   "cell_type": "markdown",
   "metadata": {},
   "source": [
    "### Caso 3: No normal, n > 30\n",
    "\n",
    "Un sitio web registra el tiempo (en segundos) que tardan los usuarios en completar un formulario. Los tiempos son asimétricos pero se registraron más de 50 observaciones."
   ]
  },
  {
   "cell_type": "code",
   "execution_count": 17,
   "metadata": {},
   "outputs": [
    {
     "name": "stdout",
     "output_type": "stream",
     "text": [
      "IC para media no normal y varianza desconocida:(28.64,53.36)\n"
     ]
    }
   ],
   "source": [
    "# datos asimétricos\n",
    "datos = np.random.exponential(scale=50, size=60)\n",
    "\n",
    "media = np.mean(datos)\n",
    "desv_est = np.std(datos, ddof=1)\n",
    "n = len(datos)\n",
    "\n",
    "z = norm.ppf(1 - alfa/2)\n",
    "error = z * (desv_est / np.sqrt(n))\n",
    "IC = (media - error, media + error)\n",
    "print(f'IC para media no normal y varianza desconocida:({IC[0]:.2f},{IC[1]:.2f})')"
   ]
  },
  {
   "cell_type": "markdown",
   "metadata": {},
   "source": [
    "## Bloque 2: Intervalos para diferencia de medias"
   ]
  },
  {
   "cell_type": "markdown",
   "metadata": {},
   "source": [
    "\n",
    "\n",
    "### Caso 1: Varianzas conocidas, población no normal\n",
    "\n",
    "Dos líneas de ensamblaje producen ejes metálicos. Se conoce que las desviaciones estándar históricas son constantes. Se desea comparar sus medias."
   ]
  },
  {
   "cell_type": "code",
   "execution_count": 10,
   "metadata": {},
   "outputs": [
    {
     "name": "stdout",
     "output_type": "stream",
     "text": [
      "IC diferencia de medias con varianzas conocidas:(0.89,2.11)\n"
     ]
    }
   ],
   "source": [
    "x1, x2 = 102.3, 100.8\n",
    "s1, s2 = 1.5, 1.2\n",
    "n1, n2 = 40, 35\n",
    "\n",
    "error = norm.ppf(1 - alfa/2) * np.sqrt((s1**2 / n1) + (s2**2 / n2))\n",
    "dif_media = x1 - x2\n",
    "IC = (dif_media - error, dif_media + error)\n",
    "print(f'IC diferencia de medias no normales con varianzas conocidas:({IC[0]:.2f},{IC[1]:.2f})')"
   ]
  },
  {
   "cell_type": "markdown",
   "metadata": {},
   "source": [
    "### Caso 2: Varianzas desconocidas pero iguales, población normal\n",
    "\n",
    "Dos laboratorios miden niveles de glucosa en pacientes. Se supone que tienen varianzas similares y distribuciones normales. Comparar sus promedios."
   ]
  },
  {
   "cell_type": "code",
   "execution_count": 11,
   "metadata": {},
   "outputs": [
    {
     "name": "stdout",
     "output_type": "stream",
     "text": [
      "IC diferencia de medias con varianzas iguales:(2.64,5.86)\n"
     ]
    }
   ],
   "source": [
    "# Muestras\n",
    "lab1 = np.array([89, 92, 91, 90, 93, 89, 88, 90])\n",
    "lab2 = np.array([85, 87, 86, 88, 85, 86, 87, 84])\n",
    "\n",
    "n1, n2 = len(lab1), len(lab2)\n",
    "s1, s2 = np.std(lab1, ddof=1), np.std(lab2, ddof=1)\n",
    "sp = np.sqrt(((n1 - 1) * s1**2 + (n2 - 1) * s2**2) / (n1 + n2 - 2))\n",
    "media1, media2 = np.mean(lab1), np.mean(lab2)\n",
    "\n",
    "t_crit = t.ppf(1 - alfa/2, df=n1 + n2 - 2)\n",
    "error = t_crit * sp * np.sqrt(1/n1 + 1/n2)\n",
    "IC = ((media1 - media2) - error, (media1 - media2) + error)\n",
    "print(f'IC diferencia de medias con varianzas iguales:({IC[0]:.2f},{IC[1]:.2f})')"
   ]
  },
  {
   "cell_type": "markdown",
   "metadata": {},
   "source": [
    "### Caso 3: No normal, muestras grandes, varianzas desconocidas\n",
    "\n",
    "Se comparan los tiempos promedio de carga entre dos servidores web diferentes. Se recolectan 40 observaciones por grupo."
   ]
  },
  {
   "cell_type": "code",
   "execution_count": 12,
   "metadata": {},
   "outputs": [
    {
     "name": "stdout",
     "output_type": "stream",
     "text": [
      "IC diferencia de medias para datos no normales:(-3.58,0.75)\n"
     ]
    }
   ],
   "source": [
    "servidor1 = np.random.exponential(scale=4, size=40)\n",
    "servidor2 = np.random.exponential(scale=5, size=40)\n",
    "\n",
    "x1, x2 = np.mean(servidor1), np.mean(servidor2)\n",
    "s1, s2 = np.std(servidor1, ddof=1), np.std(servidor2, ddof=1)\n",
    "n1, n2 = len(servidor1), len(servidor2)\n",
    "\n",
    "z = norm.ppf(1 - alfa/2)\n",
    "error = z * np.sqrt(s1**2 / n1 + s2**2 / n2)\n",
    "IC = (x1 - x2 - error, x1 - x2 + error)\n",
    "print(f'IC diferencia de medias para datos no normales:({IC[0]:.2f},{IC[1]:.2f})')"
   ]
  },
  {
   "cell_type": "markdown",
   "metadata": {},
   "source": [
    "## Bloque 3: Intervalo de confianza para proporciones"
   ]
  },
  {
   "cell_type": "markdown",
   "metadata": {},
   "source": [
    "### Caso: Proporción de usuarios que hacen clic en un anuncio\n",
    "\n",
    "De una muestra de 1200 usuarios que vieron un anuncio, 138 hicieron clic. Estimar la proporción real."
   ]
  },
  {
   "cell_type": "code",
   "execution_count": 13,
   "metadata": {},
   "outputs": [
    {
     "name": "stdout",
     "output_type": "stream",
     "text": [
      "IC para una proporción:(0.10,0.13)\n"
     ]
    }
   ],
   "source": [
    "n = 1200\n",
    "x = 138\n",
    "p_hat = x / n\n",
    "z = norm.ppf(1 - alfa/2)\n",
    "error = z * np.sqrt(p_hat * (1 - p_hat) / n)\n",
    "IC = (p_hat - error, p_hat + error)\n",
    "print(f'IC para una proporción:({IC[0]:.2f},{IC[1]:.2f})')"
   ]
  }
 ],
 "metadata": {
  "kernelspec": {
   "display_name": "analitica",
   "language": "python",
   "name": "python3"
  },
  "language_info": {
   "codemirror_mode": {
    "name": "ipython",
    "version": 3
   },
   "file_extension": ".py",
   "mimetype": "text/x-python",
   "name": "python",
   "nbconvert_exporter": "python",
   "pygments_lexer": "ipython3",
   "version": "3.12.2"
  }
 },
 "nbformat": 4,
 "nbformat_minor": 2
}
